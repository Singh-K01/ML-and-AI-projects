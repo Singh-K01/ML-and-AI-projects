{
 "cells": [
  {
   "cell_type": "code",
   "execution_count": 42,
   "metadata": {},
   "outputs": [
    {
     "name": "stderr",
     "output_type": "stream",
     "text": [
      "[nltk_data] Downloading package stopwords to\n",
      "[nltk_data]     C:\\Users\\Karandeep\\AppData\\Roaming\\nltk_data...\n",
      "[nltk_data]   Package stopwords is already up-to-date!\n"
     ]
    }
   ],
   "source": [
    "# -*- coding: utf-8 -*-\n",
    "import pandas as pd\n",
    "import numpy as np\n",
    "\n",
    "import matplotlib.pyplot as plt\n",
    "import nltk\n",
    "nltk.download('stopwords')\n",
    "from nltk.corpus import stopwords\n",
    "\n",
    "import re\n",
    "\n",
    "from sklearn.metrics import confusion_matrix, roc_curve, roc_auc_score, auc,  make_scorer\n",
    "from vaderSentiment.vaderSentiment import SentimentIntensityAnalyzer\n",
    "\n",
    "import gensim\n",
    "from sklearn.feature_extraction.text import CountVectorizer, TfidfVectorizer\n",
    "\n",
    "from sklearn.model_selection import train_test_split\n",
    "from sklearn.linear_model import LogisticRegression\n",
    "from sklearn.neighbors import KNeighborsClassifier\n",
    "from sklearn.svm import SVC\n",
    "from sklearn.naive_bayes import GaussianNB\n",
    "from sklearn.ensemble import RandomForestClassifier\n",
    "from sklearn.tree import DecisionTreeClassifier"
   ]
  },
  {
   "cell_type": "code",
   "execution_count": 2,
   "metadata": {},
   "outputs": [],
   "source": [
    "from sklearn.model_selection import GridSearchCV"
   ]
  },
  {
   "cell_type": "markdown",
   "metadata": {},
   "source": [
    "## Loading data from dataset"
   ]
  },
  {
   "cell_type": "code",
   "execution_count": 3,
   "metadata": {},
   "outputs": [],
   "source": [
    "# Divided the dataset into 3 files for easy loading\n",
    "df_1 = pd.read_excel(\"C:/Users/Karandeep/Downloads/Natural Language Processing/Project/imdb_reviews_1.xlsx\", sep = '||', encoding='utf-8')\n",
    "df_2 = pd.read_excel(\"C:/Users/Karandeep/Downloads/Natural Language Processing/Project/imdb_reviews_2.xlsx\", sep = '||', encoding='utf-8')\n",
    "df_3 = pd.read_excel(\"C:/Users/Karandeep/Downloads/Natural Language Processing/Project/imdb_reviews_3.xlsx\", sep = '||', encoding='utf-8')\n",
    "df = pd.concat([df_1, df_2,df_3])"
   ]
  },
  {
   "cell_type": "markdown",
   "metadata": {},
   "source": [
    "## Exploratory Data Analysis and Pre-processing"
   ]
  },
  {
   "cell_type": "code",
   "execution_count": 4,
   "metadata": {},
   "outputs": [
    {
     "name": "stdout",
     "output_type": "stream",
     "text": [
      "<class 'pandas.core.frame.DataFrame'>\n",
      "Int64Index: 48512 entries, 0 to 18248\n",
      "Data columns (total 4 columns):\n",
      "uid          48512 non-null int64\n",
      "score        48512 non-null int64\n",
      "sentiment    48512 non-null object\n",
      "Review       48512 non-null object\n",
      "dtypes: int64(2), object(2)\n",
      "memory usage: 1.9+ MB\n"
     ]
    }
   ],
   "source": [
    "pd.DataFrame(df).info()"
   ]
  },
  {
   "cell_type": "markdown",
   "metadata": {},
   "source": [
    "# Got the below irrelavant characters/strings:\n",
    "> Dates: 6/24/2007\n",
    "> Years: 1976, 1999, 1957-1965, 70', 80'\n",
    "> Special characters : Ã©, &, Ã±, â€œ (Ã© looks like French character but incorrectly parsed)\n",
    "\n",
    "> HTML tags: < />\n",
    " \n",
    "> Exclamations: !, ., ', \", \n",
    "\n",
    "> String of exclamations: !!!!, !!, ...., \"\", -------, ****************\n",
    "\n",
    "> Something that looked liked ratings: 2/10, 8.15, *1/2,  ****\n",
    " \n",
    "> Percentages: 95%\n",
    " \n",
    "> Numeric values: 105\n",
    " \n",
    "> Dollar values: $10\n",
    " \n",
    "> Brackets: (, (, \n",
    "\n",
    "> Some strings like 11385|4|| which indicated that original data file had corrupted the records by including more than one record in a record\n",
    "\n",
    "> French accentuated characters"
   ]
  },
  {
   "cell_type": "code",
   "execution_count": 5,
   "metadata": {
    "scrolled": false
   },
   "outputs": [
    {
     "name": "stdout",
     "output_type": "stream",
     "text": [
      "12499\n",
      "No. of hidden reviews found : 612\n"
     ]
    }
   ],
   "source": [
    "# Some reviews were concatenated(hidden) into other reviews which will give us wrong sense of topics, hence, we need to extract those reviews out \n",
    "# and create separate entries for them\n",
    "\n",
    "# Checking to see what's the max. ID number so that we can create indexes after it\n",
    "max_id = df['uid'].max()\n",
    "print(max_id)\n",
    "\n",
    "# Finding and extracting reviews that are concatenated in other reviews\n",
    "# Reference : https://stackoverflow.com/questions/29294017/extract-substring-from-string-in-dataframe\n",
    "addnl_reviews_neg = []\n",
    "for d in df['Review']:\n",
    "    addnl_review = re.search(r'[|][0-9][|]negative[|].*',str(d)) #Scan through string looking for a match to the pattern, returning a match object, or None if no match was found.\"\"\"\n",
    "    if addnl_review != None:\n",
    "        addnl_review = addnl_review.group(0)\n",
    "        addnl_review = addnl_review[1:len(addnl_review)-1]\n",
    "        addnl_reviews_neg.append(addnl_review)\n",
    "        \n",
    "addnl_reviews_pos = []\n",
    "for d in df['Review']:\n",
    "    addnl_review = re.search(r'[|][0-9][|]positive[|].*',str(d)) #Scan through string looking for a match to the pattern, returning a match object, or None if no match was found.\"\"\"\n",
    "    if addnl_review != None:\n",
    "        addnl_review = addnl_review.group(0)\n",
    "        addnl_review = addnl_review[1:len(addnl_review)-1]\n",
    "        addnl_reviews_pos.append(addnl_review)\n",
    "\n",
    "addnl_reviews = addnl_reviews_neg + addnl_reviews_pos\n",
    "print(\"No. of hidden reviews found : \" + str(len(addnl_reviews)))\n",
    "\n",
    "\n",
    "df_addnl = pd.DataFrame()\n",
    "labels = ['uid', 'score', 'sentiment', 'Review']\n",
    "for rev in addnl_reviews:\n",
    "    max_id += 1\n",
    "    rev_var = rev.split('|', maxsplit = 2)\n",
    "    dict = {'uid': max_id, 'score': rev_var[0], 'sentiment':rev_var[1], 'Review':rev_var[2]}\n",
    "    df_addnl = df_addnl.append(dict, ignore_index = True)\n",
    "    \n",
    "df_addnl = df_addnl[['uid','score','sentiment','Review']]\n",
    "df_addnl.set_index(df_addnl['uid'], inplace = True)\n",
    "df = pd.concat([df,df_addnl], ignore_index = True)\n",
    "df.reset_index(drop = True, inplace = True)\n"
   ]
  },
  {
   "cell_type": "code",
   "execution_count": 6,
   "metadata": {},
   "outputs": [
    {
     "data": {
      "text/plain": [
       "49124"
      ]
     },
     "execution_count": 6,
     "metadata": {},
     "output_type": "execute_result"
    }
   ],
   "source": [
    "len(df)"
   ]
  },
  {
   "cell_type": "code",
   "execution_count": 7,
   "metadata": {
    "scrolled": false
   },
   "outputs": [
    {
     "name": "stdout",
     "output_type": "stream",
     "text": [
      "The AVERAGE LENGTH of the reviews is: 238.0341380995033\n"
     ]
    },
    {
     "data": {
      "image/png": "[encoded data removed]",
      "text/plain": [
       "<Figure size 432x288 with 1 Axes>"
      ]
     },
     "metadata": {},
     "output_type": "display_data"
    }
   ],
   "source": [
    "# Count the average length of the reviews in terms of no. of tokens\n",
    "review_length = []\n",
    "for review in df.iloc[:,3]:\n",
    "    review_length.append(len(review.split()))\n",
    "\n",
    "print(\"The AVERAGE LENGTH of the reviews is: \" + str(np.mean(review_length)))\n",
    "\n",
    "# Density distribution of review length\n",
    "plt.hist(review_length, density = True, label = 'Review Length Density')\n",
    "plt.xlabel('No. of Words')\n",
    "plt.ylabel('Density')\n",
    "plt.legend(loc='best')\n",
    "plt.show()"
   ]
  },
  {
   "cell_type": "markdown",
   "metadata": {},
   "source": [
    "## Lexicon Approach - VADER used"
   ]
  },
  {
   "cell_type": "code",
   "execution_count": 8,
   "metadata": {},
   "outputs": [],
   "source": [
    "analyzer_var = SentimentIntensityAnalyzer()\n",
    "pol_score_docu_set = []\n",
    "def lexicon_sentiment_vader(document_set):\n",
    "    for doc in document_set:\n",
    "        pol_score_doc = analyzer_var.polarity_scores(doc)\n",
    "        pol_score_docu_set.extend([pol_score_doc.values()]) \n",
    "    return pol_score_docu_set\n",
    "sentiment_predicted = list(lexicon_sentiment_vader(df.iloc[:,3]))\n",
    "\n",
    "#Sequence: neg, neu, pos, compound"
   ]
  },
  {
   "cell_type": "code",
   "execution_count": 9,
   "metadata": {},
   "outputs": [
    {
     "data": {
      "text/plain": [
       "[0.121, 0.737, 0.142, 0.4217]"
      ]
     },
     "execution_count": 9,
     "metadata": {},
     "output_type": "execute_result"
    }
   ],
   "source": [
    "list(sentiment_predicted[0])"
   ]
  },
  {
   "cell_type": "code",
   "execution_count": 10,
   "metadata": {},
   "outputs": [],
   "source": [
    "# Apending results to the original dataframe\n",
    "sentiment_predicted_list = list()\n",
    "\n",
    "for row in sentiment_predicted:\n",
    "    compound_score = list(row)[3]\n",
    "    sentiment_predicted_list.append(compound_score)\n",
    "df['sentiment_predicted_vader_score'] = pd.Series(sentiment_predicted_list)"
   ]
  },
  {
   "cell_type": "code",
   "execution_count": 11,
   "metadata": {},
   "outputs": [
    {
     "name": "stdout",
     "output_type": "stream",
     "text": [
      "Neutral Reviews\n",
      "30\n",
      "Positive Reviews\n",
      "32316\n",
      "Negative Reviews\n",
      "16778\n"
     ]
    }
   ],
   "source": [
    "# How many Positive, Negative and Neutral reviews present\n",
    "print('Neutral Reviews')\n",
    "print(len(df['sentiment_predicted_vader_score'][df['sentiment_predicted_vader_score'] == 0]))\n",
    "\n",
    "print('Positive Reviews')\n",
    "print(len(df['sentiment_predicted_vader_score'][df['sentiment_predicted_vader_score'] > 0]))\n",
    "\n",
    "print('Negative Reviews')\n",
    "print(len(df['sentiment_predicted_vader_score'][df['sentiment_predicted_vader_score'] < 0]))"
   ]
  },
  {
   "cell_type": "code",
   "execution_count": 12,
   "metadata": {},
   "outputs": [],
   "source": [
    "# Classifying reviews as Positive or Negative (as mentioned in the question)\n",
    "# Assumption - Here, I am assuming that score = 0 is also negative\n",
    "df['sentiment_predicted_vader'] = ['positive' if score > 0 else 'negative' for score in df['sentiment_predicted_vader_score']]"
   ]
  },
  {
   "cell_type": "code",
   "execution_count": 13,
   "metadata": {},
   "outputs": [
    {
     "name": "stdout",
     "output_type": "stream",
     "text": [
      "Confusion Matrix for Lexicon Approach (VADER):\n",
      "[[13286 11389]\n",
      " [ 3522 20927]]\n"
     ]
    }
   ],
   "source": [
    "# Building the confusion matrix using sklearn\n",
    "print('Confusion Matrix for Lexicon Approach (VADER):')\n",
    "cm = confusion_matrix(df['sentiment'], df['sentiment_predicted_vader'])\n",
    "print(cm)"
   ]
  },
  {
   "cell_type": "code",
   "execution_count": 14,
   "metadata": {},
   "outputs": [
    {
     "name": "stdout",
     "output_type": "stream",
     "text": [
      "13286 3522 11389 20927\n"
     ]
    }
   ],
   "source": [
    "# Double checking the position of values in the sklearn confusion matrix\n",
    "df_pred_neg = df[ df[ 'sentiment_predicted_vader'] == 'negative' ]\n",
    "df_pred_pos = df[ df[ 'sentiment_predicted_vader'] == 'positive' ]\n",
    "TN =  len( df_pred_neg[df_pred_neg['sentiment'] == 'negative'] ) # TN cm[0][0]\n",
    "FP =  len( df_pred_neg[df_pred_neg['sentiment'] == 'positive'] ) # FP cm[1][0]\n",
    "FN =  len( df_pred_pos[df_pred_pos['sentiment'] == 'negative'] ) # FN cm[0][1]\n",
    "TP =  len( df_pred_pos[df_pred_pos['sentiment'] == 'positive'] ) # TP cm[1][1]\n",
    "print(TN, FP, FN, TP)"
   ]
  },
  {
   "cell_type": "code",
   "execution_count": 15,
   "metadata": {},
   "outputs": [],
   "source": [
    "#Defining performance measures from scratch as I don't trust the available packages based on my experiences\n",
    "def custom_accuracy_score(y_test, y_pred):\n",
    "    cm = confusion_matrix(y_test, y_pred)\n",
    "    tn, fn, fp, tp = cm[0][0], cm[0][1], cm[1][0], cm[1][1]\n",
    "    return ((tn+tp)/(tn+tp+fn+fp))\n",
    "def custom_sensitivity_score(y_test, y_pred):\n",
    "    cm = confusion_matrix(y_test, y_pred)\n",
    "    tn, fn, fp, tp = cm[0][0], cm[0][1], cm[1][0], cm[1][1]\n",
    "    return (tp/(tp+fn))\n",
    "def custom_specificity_score(y_test, y_pred):\n",
    "    cm = confusion_matrix(y_test, y_pred)\n",
    "    tn, fn, fp, tp = cm[0][0], cm[0][1], cm[1][0], cm[1][1]\n",
    "    return (tn/(tn+fp))"
   ]
  },
  {
   "cell_type": "code",
   "execution_count": 16,
   "metadata": {},
   "outputs": [
    {
     "name": "stdout",
     "output_type": "stream",
     "text": [
      "Accuracy Lexicon (Vader): 0.6964620144939337\n",
      "Sensitivity Lexicon (Vader): 0.6475739571729174\n",
      "Specificity Lexicon (Vader): 0.6964620144939337\n"
     ]
    }
   ],
   "source": [
    "#Calculating the Accuracy, Sensitivity, and Specificity of Lexicon approach\n",
    "accuracy = custom_accuracy_score(df['sentiment'], df['sentiment_predicted_vader'])\n",
    "sensitivity = custom_sensitivity_score(df['sentiment'], df['sentiment_predicted_vader'])\n",
    "specificity = custom_specificity_score(df['sentiment'], df['sentiment_predicted_vader'])\n",
    "print('Accuracy Lexicon (Vader): ' + str(accuracy))\n",
    "print('Sensitivity Lexicon (Vader): ' + str(sensitivity))\n",
    "print('Specificity Lexicon (Vader): ' + str(accuracy))"
   ]
  },
  {
   "cell_type": "markdown",
   "metadata": {},
   "source": [
    "## Machine Learning Approach - multiple classifiers and hyperparameter-tuning used"
   ]
  },
  {
   "cell_type": "markdown",
   "metadata": {},
   "source": [
    "## Tokenize"
   ]
  },
  {
   "cell_type": "code",
   "execution_count": 17,
   "metadata": {},
   "outputs": [
    {
     "name": "stdout",
     "output_type": "stream",
     "text": [
      "Wall time: 20.3 s\n",
      "['To', 'sum', 'this', 'movie', 'up', 'it', 'is', 'LaBute', 'carrying', 'his', 'sadism', 'over', 'into', 'the', 'realm', 'of', 'comedic', 'farce', 'The', 'predictable', 'result', 'is', 'that', 'he', 'is', 'constantly', 'stepping', 'on', 'all', 'the', 'jokes', 'by', 'insisting', 'on', 'surrounding', 'them', 'with', 'blood', 'curdling', 'violence', 'and', 'extremely', 'hateful', 'characters', 'There', 'is', 'also', 'evidence', 'of', 'his', 'continuing', 'efforts', 'to', 'insult', 'and', 'ridicule', 'everything', 'in', 'sight', 'but', 'then', 'to', 'apologize', 'for', 'it', 'with', 'weak', 'gestures', 'to', 'the', 'PC', 'Basically', 'the', 'movie', 'just', 'doesn', 't', 'work', 'its', 'plot', 'is', 'beyond', 'contrived', 'the', 'characters', 'are', 'one', 'dimensional', 'cliches', 'there', 'is', 'no', 'consistency', 'or', 'development', 'of', 'anything', 'and', 'the', 'comedy', 'where', 'it', 'is', 'not', 'totally', 'out', 'of', 'place', 'is', 'the', 'worst', 'kind', 'of', 'High', 'Concept', 'drivel', 'br', 'br', 'Morgan', 'Freeman', 'and', 'Renee', 'Zellweger', 'are', 'completely', 'wasted', 'on', 'characters', 'that', 'seem', 'like', 'parodies', 'of', 'studio', 'driven', 'audience', 'pandering', 'no', 'matter', 'what', 'make', 'them', 'likeable', 'neutral', 'and', 'neutered', 'and', 'full', 'of', 'moral', 'platitudes', 'Crispin', 'Glover', 'is', 'in', 'here', 'just', 'long', 'enough', 'to', 'convince', 'you', 'that', 'he', 'doesn', 't', 'belong', 'in', 'movies', 'anymore', 'Chris', 'Rock', 'actually', 'has', 'negative', 'chemistry', 'with', 'fellow', 'hitman', 'Freeman', 'it', 's', 'as', 'if', 'they', 'are', 'acting', 'in', 'different', 'rooms', 'even', 'when', 'they', 'are', 'two', 'inches', 'away', 'from', 'each', 'other', 'In', 'effect', 'Chris', 'Rock', 'seems', 'like', 'a', 'digital', 'insert', 'At', 'least', 'he', 'isn', 't', 'as', 'annoying', 'as', 'Jar', 'Jar', 'br', 'br', 'LaBute', 's', 'minutes', 'may', 'well', 'be', 'up', 'by', 'now', 'It', 's', 'already', 'looking', 'like', 'he', 's', 'overstayed', 'his', 'welcome']\n"
     ]
    }
   ],
   "source": [
    "def simple_tokenize(document_set):\n",
    "    for doc in document_set:\n",
    "        yield [w for w in (gensim.utils.tokenize(str(doc), deacc=True))]\n",
    "\n",
    "get_ipython().run_line_magic('time', 'tokenized_df = list(simple_tokenize(df.iloc[:,3]))')\n",
    "\n",
    "# Visualize cleansed and tokenized output \n",
    "print(list(tokenized_df[0]))"
   ]
  },
  {
   "cell_type": "markdown",
   "metadata": {},
   "source": [
    "## Stop words removal"
   ]
  },
  {
   "cell_type": "code",
   "execution_count": 18,
   "metadata": {},
   "outputs": [
    {
     "name": "stdout",
     "output_type": "stream",
     "text": [
      "Wall time: 44.3 s\n",
      "['sum', 'labute', 'carrying', 'sadism', 'realm', 'comedic', 'farce', 'predictable', 'result', 'constantly', 'stepping', 'jokes', 'insisting', 'surrounding', 'blood', 'curdling', 'violence', 'extremely', 'hateful', 'characters', 'also', 'evidence', 'continuing', 'efforts', 'insult', 'ridicule', 'everything', 'sight', 'apologize', 'weak', 'gestures', 'basically', 'work', 'plot', 'beyond', 'contrived', 'characters', 'one', 'dimensional', 'cliches', 'consistency', 'development', 'anything', 'comedy', 'totally', 'place', 'worst', 'kind', 'high', 'concept', 'drivel', 'morgan', 'freeman', 'renee', 'zellweger', 'completely', 'wasted', 'characters', 'seem', 'like', 'parodies', 'studio', 'driven', 'audience', 'pandering', 'matter', 'make', 'likeable', 'neutral', 'neutered', 'full', 'moral', 'platitudes', 'crispin', 'glover', 'long', 'enough', 'convince', 'belong', 'anymore', 'chris', 'rock', 'actually', 'negative', 'chemistry', 'fellow', 'hitman', 'freeman', 'acting', 'different', 'rooms', 'even', 'two', 'inches', 'away', 'effect', 'chris', 'rock', 'seems', 'like', 'digital', 'insert', 'least', 'annoying', 'jar', 'jar', 'labute', 'minutes', 'may', 'well', 'already', 'looking', 'like', 'overstayed', 'welcome']\n"
     ]
    }
   ],
   "source": [
    "def lowercase_remove_stopwords_tokenize(document_set): \n",
    "    stop_words = stopwords.words('english')\n",
    "    stop_words.extend(['br','film','films','movie','movies','see','saw','watch','watched','watches','look','looks','looked'])# Defining list of stopwords to use\n",
    "    for doc in document_set:\n",
    "        yield [w for w in (gensim.utils.simple_preprocess(str(doc), deacc=True, min_len = 3)) if w not in stop_words]\n",
    "\n",
    "get_ipython().run_line_magic('time', 'tokenized_df = list(lowercase_remove_stopwords_tokenize(tokenized_df))')\n",
    "\n",
    "# Visualize cleansed and tokenized output \n",
    "print(list(tokenized_df[0]))"
   ]
  },
  {
   "cell_type": "markdown",
   "metadata": {},
   "source": [
    "## Stemming"
   ]
  },
  {
   "cell_type": "code",
   "execution_count": 19,
   "metadata": {},
   "outputs": [
    {
     "name": "stdout",
     "output_type": "stream",
     "text": [
      "Wall time: 1min 3s\n",
      "['sum', 'labut', 'carri', 'sadism', 'realm', 'comed', 'farc', 'predict', 'result', 'constant', 'step', 'joke', 'insist', 'surround', 'blood', 'curdl', 'violenc', 'extrem', 'hate', 'charact', 'also', 'evid', 'continu', 'effort', 'insult', 'ridicul', 'everyth', 'sight', 'apolog', 'weak', 'gestur', 'basic', 'work', 'plot', 'beyond', 'contriv', 'charact', 'one', 'dimension', 'clich', 'consist', 'develop', 'anyth', 'comedi', 'total', 'place', 'worst', 'kind', 'high', 'concept', 'drivel', 'morgan', 'freeman', 'rene', 'zellweg', 'complet', 'wast', 'charact', 'seem', 'like', 'parodi', 'studio', 'driven', 'audienc', 'pander', 'matter', 'make', 'likeabl', 'neutral', 'neuter', 'full', 'moral', 'platitud', 'crispin', 'glover', 'long', 'enough', 'convinc', 'belong', 'anymor', 'chris', 'rock', 'actual', 'negat', 'chemistri', 'fellow', 'hitman', 'freeman', 'act', 'differ', 'room', 'even', 'two', 'inch', 'away', 'effect', 'chris', 'rock', 'seem', 'like', 'digit', 'insert', 'least', 'annoy', 'jar', 'jar', 'labut', 'minut', 'may', 'well', 'alreadi', 'look', 'like', 'overstay', 'welcom']\n"
     ]
    }
   ],
   "source": [
    "#We tried with all the below stemmers  but snowball gave us best results\n",
    "def snowball_stemming(document_set):\n",
    "    snowball = nltk.stem.SnowballStemmer('english')\n",
    "    for doc in document_set:\n",
    "        yield [snowball.stem(w) for w in doc]\n",
    "\n",
    "def porter_stemming(document_set):\n",
    "    porter = nltk.stem.PorterStemmer(mode='NLTK_EXTENSIONS')\n",
    "    for doc in document_set:\n",
    "        yield [porter.stem(w) for w in doc]\n",
    "\n",
    "def lancaster_stemming(document_set):\n",
    "    lancaster = nltk.stem.LancasterStemmer()\n",
    "    for doc in document_set:\n",
    "        yield [lancaster.stem(w) for w in doc]\n",
    "\n",
    "get_ipython().run_line_magic('time', 'stemmed_df = list(snowball_stemming(tokenized_df))') #Using Snowball stemmer\n",
    "\n",
    "# Visualize cleansed and tokenized output \n",
    "print(list(stemmed_df[0]))"
   ]
  },
  {
   "cell_type": "markdown",
   "metadata": {},
   "source": [
    "## Bi-grams"
   ]
  },
  {
   "cell_type": "code",
   "execution_count": 20,
   "metadata": {},
   "outputs": [
    {
     "name": "stdout",
     "output_type": "stream",
     "text": [
      "Wall time: 7.93 s\n",
      "['sum', 'labut', 'carri', 'sadism', 'realm', 'comed', 'farc', 'predict', 'result', 'constant', 'step', 'joke', 'insist', 'surround', 'blood_curdl', 'violenc', 'extrem', 'hate', 'charact', 'also', 'evid', 'continu', 'effort', 'insult', 'ridicul', 'everyth', 'sight', 'apolog', 'weak', 'gestur', 'basic', 'work', 'plot', 'beyond', 'contriv', 'charact', 'one', 'dimension', 'clich', 'consist', 'develop', 'anyth', 'comedi', 'total', 'place', 'worst', 'kind', 'high', 'concept', 'drivel', 'morgan_freeman', 'rene_zellweg', 'complet', 'wast', 'charact', 'seem', 'like', 'parodi', 'studio', 'driven', 'audienc', 'pander', 'matter', 'make', 'likeabl', 'neutral', 'neuter', 'full', 'moral', 'platitud', 'crispin_glover', 'long', 'enough', 'convinc', 'belong', 'anymor', 'chris_rock', 'actual', 'negat', 'chemistri', 'fellow', 'hitman', 'freeman', 'act', 'differ', 'room', 'even', 'two', 'inch', 'away', 'effect', 'chris_rock', 'seem', 'like', 'digit', 'insert', 'least', 'annoy', 'jar_jar', 'labut', 'minut', 'may', 'well', 'alreadi', 'look', 'like', 'overstay_welcom']\n"
     ]
    }
   ],
   "source": [
    "#Using gensim's 'Phrases' class functions\n",
    "def bi_grams(document_set):\n",
    "        bi_gram_mod = gensim.models.Phrases(document_set, min_count=5, threshold=100) #the bigram should appear min min_count times in the corpus\n",
    "        return bi_gram_mod\n",
    "        #Phraser is a wrapper that is faster compared to the Phrases class, but we decided not to use it\n",
    "\n",
    "get_ipython().run_line_magic('time', 'bi_grams_df = bi_grams(stemmed_df)[stemmed_df]')\n",
    "                   \n",
    "# Visualize bigram output\n",
    "print(bi_grams_df[0]) "
   ]
  },
  {
   "cell_type": "markdown",
   "metadata": {},
   "source": [
    "## Tri-grams"
   ]
  },
  {
   "cell_type": "code",
   "execution_count": 21,
   "metadata": {},
   "outputs": [
    {
     "name": "stdout",
     "output_type": "stream",
     "text": [
      "Wall time: 26.4 s\n",
      "['sum', 'labut', 'carri', 'sadism', 'realm', 'comed', 'farc', 'predict', 'result', 'constant', 'step', 'joke', 'insist', 'surround', 'blood_curdl', 'violenc', 'extrem', 'hate', 'charact', 'also', 'evid', 'continu', 'effort', 'insult', 'ridicul', 'everyth', 'sight', 'apolog', 'weak', 'gestur', 'basic', 'work', 'plot', 'beyond', 'contriv', 'charact', 'one', 'dimension', 'clich', 'consist', 'develop', 'anyth', 'comedi', 'total', 'place', 'worst', 'kind', 'high', 'concept', 'drivel', 'morgan_freeman', 'rene_zellweg', 'complet', 'wast', 'charact', 'seem', 'like', 'parodi', 'studio', 'driven', 'audienc', 'pander', 'matter', 'make', 'likeabl', 'neutral', 'neuter', 'full', 'moral', 'platitud', 'crispin_glover', 'long', 'enough', 'convinc', 'belong', 'anymor', 'chris_rock', 'actual', 'negat', 'chemistri', 'fellow', 'hitman', 'freeman', 'act', 'differ', 'room', 'even', 'two', 'inch', 'away', 'effect', 'chris_rock', 'seem', 'like', 'digit', 'insert', 'least', 'annoy', 'jar_jar', 'labut', 'minut', 'may', 'well', 'alreadi', 'look', 'like', 'overstay_welcom']\n"
     ]
    }
   ],
   "source": [
    "#Assumption - The output of bi_grams function would be passed to this function as an input\n",
    "def tri_grams(document_set):\n",
    "        tri_gram_mod = gensim.models.Phrases(document_set, min_count=3, threshold=100) #the trigram should appear min min_count times in the corpus\n",
    "        return tri_gram_mod\n",
    "        #Phraser is a wrapper that is faster compared to the Phrases class, but we decided not to use it\n",
    "\n",
    "get_ipython().run_line_magic('time', 'tri_grams_df = tri_grams(bi_grams_df)[bi_grams_df] #Notice how bi_grams_df was given as an input')\n",
    "                   \n",
    "# Visualize trigram output\n",
    "print(tri_grams_df[0])  "
   ]
  },
  {
   "cell_type": "markdown",
   "metadata": {},
   "source": [
    "## Some more Stop-words removal"
   ]
  },
  {
   "cell_type": "code",
   "execution_count": 22,
   "metadata": {},
   "outputs": [
    {
     "name": "stdout",
     "output_type": "stream",
     "text": [
      "Wall time: 1min 8s\n",
      "['sum', 'labut', 'carri', 'sadism', 'realm', 'comed', 'farc', 'predict', 'result', 'constant', 'joke', 'surround', 'blood_curdl', 'violenc', 'extrem', 'hate', 'charact', 'effort', 'insult', 'ridicul', 'everyth', 'sight', 'apolog', 'weak', 'gestur', 'basic', 'work', 'plot', 'contriv', 'charact', 'dimension', 'clich', 'develop', 'comedi', 'total', 'worst', 'high', 'concept', 'drivel', 'morgan_freeman', 'rene_zellweg', 'wast', 'charact', 'like', 'parodi', 'studio', 'driven', 'pander', 'matter', 'likeabl', 'neutral', 'neuter', 'moral', 'platitud', 'crispin_glover', 'long', 'chris_rock', 'negat', 'chemistri', 'fellow', 'hitman', 'freeman', 'act', 'room', 'inch', 'chris_rock', 'like', 'digit', 'insert', 'least', 'annoy', 'jar_jar', 'labut', 'minut', 'like', 'overstay_welcom']\n"
     ]
    }
   ],
   "source": [
    "def remove_stopwords(document_set): \n",
    "    stop_words_x = ['find', 'back', 'another', 'becom','sinc','later','includ','away','use','feel','may','howev','enough','see','might','found',\n",
    "                    'effect','viewer','let','also','much','mani','seem','give','though','done','must','make','made','get', 'realli','would','even','way','peopl','think','made','know','thing','could',\n",
    "                    'say','come','still','part','want','tri','actual','especi','around','version','keep','soon','check','eventu','lot','exampl','exact','realiz','describ','refer','serv','edg','assum','seen','ever','agre','prefer','vari','rate','came','piec','deserv','aw','asid','toward','imdb','yeah','alway','sure','par','apart','genr','situat','provid','explan'\n",
    "                    'around','later','goe','portray','open','came','became','alreadi','ask','return','wait','continu',\n",
    "                    'anoth','believ','bit','thought', 'pretti','take','never', 'watch','everi','got','point','fact','without','need','person','almost','yet','tell','line','kind','whole','course','expect','probabl','main','less','sort','cut','pick','rememb','often','throughout','number','attempt','near','cannot','gave',\n",
    "                    'anyway','across','becam','help','follow','look','said','other','topic','somebodi','sat','everyon','easili','listen','reach','alter','truli','went','side','knew','subject','otherwis','affect','belong','intent','improv','angle','talki','hey','pleas','add'         \n",
    "                    'time','someth','noth','place','put','although','moment','anyth','happen','view','cours','far','reason','name','well','rather','complet','appear','gener','creat','along','featur','differ','understand','bring','word','comment','sometim','next','possibl','theme','anyon','simpli','imagin','abl','talk','heard','notic','inde','remind','occur','convey','establish','compel','neg','capabl','due','prove','mostli','regard','discuss','onto','moreov','relat','unfold','convinc','beyond','consist','essenti','instanc','damn','anymor','insist','frankli','manner','conduct','spoke','compris','familiar','kept','necessari','descript',\n",
    "                    'day','right','leave','felt','learn','manag','captur','full','simpl','known','shown','form','whose','audienc','present','remain','hear','somoewhat','self','rel','latter','angl','consider','earlier','enter','among','inform','constantli','evid','seek','meant','observ','intend','question','type','process','sourc','chose','thank','highlight','pre',\n",
    "                    'two','focus','geniu','supposedli','deepli','hardli','pure','furthermor','somewher','first','last','one','non','pass','certain','time','valu','review','today','gone','score','began','mayb','yes','either','mention','recal','express','numer','thorough','non','certain','true','remark','encount', 'experi','time','valu','review','today','gone','score','began','mayb','yes','either','mention','numer','nobodi','ampl',\n",
    "                    'understood','mere','contain','random','choic','interpret','attent',\n",
    "                    'besid','idea','cant','can','skip','dude','guess','overal','core','kinda'\n",
    "                    'potenti','wonder','rest','year','mix','hour','six',\n",
    "                    'somewhat','three','display','prepar','stuff','certainli'\n",
    "                    'year_ago','insid','despit','neither','step']\n",
    "    for doc in document_set:\n",
    "        yield [w for w in (gensim.utils.simple_preprocess(str(doc), deacc=True, min_len = 3)) if w not in stop_words_x]\n",
    "\n",
    "#lowercase_remove_stopwords_tokenize returns a generator object, and using list() causes it to apply the generator on the data df\n",
    "get_ipython().run_line_magic('time', 'tri_grams_df_2= list(remove_stopwords(tri_grams_df))')\n",
    "\n",
    "# Visualize cleansed and tokenized output \n",
    "print(list(tri_grams_df_2[0]))\n"
   ]
  },
  {
   "cell_type": "markdown",
   "metadata": {},
   "source": [
    "## De-tokenizing because CountVectorizer takes as input only strings"
   ]
  },
  {
   "cell_type": "code",
   "execution_count": 23,
   "metadata": {},
   "outputs": [],
   "source": [
    "def de_tokenize(document_set):\n",
    "    dummy_list = []\n",
    "    for doc in document_set:\n",
    "        dummy_list.append(str([' '.join(doc)]))\n",
    "    return dummy_list\n",
    "tri_grams_df_3 = de_tokenize(tri_grams_df_2)"
   ]
  },
  {
   "cell_type": "code",
   "execution_count": 24,
   "metadata": {
    "scrolled": true
   },
   "outputs": [
    {
     "data": {
      "text/plain": [
       "str"
      ]
     },
     "execution_count": 24,
     "metadata": {},
     "output_type": "execute_result"
    }
   ],
   "source": [
    "type(tri_grams_df_3[0])"
   ]
  },
  {
   "cell_type": "markdown",
   "metadata": {},
   "source": [
    "## Converting sentiment from categorical values to numerical values : 0 (negative) and 1 (positive)"
   ]
  },
  {
   "cell_type": "code",
   "execution_count": 25,
   "metadata": {},
   "outputs": [
    {
     "name": "stdout",
     "output_type": "stream",
     "text": [
      "0    24675\n",
      "1    24449\n",
      "Name: sentiment_onehot, dtype: int64\n"
     ]
    }
   ],
   "source": [
    "df['sentiment_onehot'] = [0 if value == 'negative' else 1 for value in df['sentiment']]\n",
    "print(df['sentiment_onehot'].value_counts())"
   ]
  },
  {
   "cell_type": "markdown",
   "metadata": {},
   "source": [
    "## Train-Test-Validate Split"
   ]
  },
  {
   "cell_type": "markdown",
   "metadata": {},
   "source": [
    "I'm taking a 20% hold-out set for Validation (Train-Test-Validation - 3 total sets)"
   ]
  },
  {
   "cell_type": "code",
   "execution_count": 34,
   "metadata": {
    "scrolled": true
   },
   "outputs": [
    {
     "name": "stdout",
     "output_type": "stream",
     "text": [
      "39299\n",
      "9825\n",
      "39299\n",
      "9825\n"
     ]
    }
   ],
   "source": [
    "X_train, X_test, y_train, y_test = train_test_split(tri_grams_df_3, df['sentiment_onehot'], test_size = 0.2)\n",
    "print(len(X_train))\n",
    "print(len(X_test))\n",
    "print(len(y_train))\n",
    "print(len(y_test))"
   ]
  },
  {
   "cell_type": "code",
   "execution_count": 27,
   "metadata": {},
   "outputs": [
    {
     "data": {
      "text/plain": [
       "str"
      ]
     },
     "execution_count": 27,
     "metadata": {},
     "output_type": "execute_result"
    }
   ],
   "source": [
    "type(X_train[0])"
   ]
  },
  {
   "cell_type": "code",
   "execution_count": 35,
   "metadata": {},
   "outputs": [],
   "source": [
    "# A function to plot ROC curve of different ML classifiers - ref. https://stackoverflow.com/questions/47569394/the-graph-of-this-roc-curve-looks-strange-sklearn-svc\n",
    "def plot_roc(y_test, y_pred):\n",
    "    fpr, tpr, thresholds = roc_curve(y_test, y_pred, pos_label=1)\n",
    "    roc_auc = auc(fpr, tpr)\n",
    "    plt.figure()\n",
    "    lw = 2\n",
    "    plt.plot(fpr, tpr, color='darkorange', lw=lw)\n",
    "    plt.plot([0, 1], [0, 1], color='navy', lw=lw, linestyle='--')\n",
    "    plt.xlim([0.0, 1.0])\n",
    "    plt.ylim([0.0, 1.05])\n",
    "    plt.xlabel('False Positive Rate')\n",
    "    plt.ylabel('True Positive Rate')\n",
    "    plt.title('Receiver operating characteristic example')\n",
    "    plt.legend(loc=\"lower right\")\n",
    "    plt.show();"
   ]
  },
  {
   "cell_type": "code",
   "execution_count": 36,
   "metadata": {},
   "outputs": [],
   "source": [
    "X_train_backup = X_train\n",
    "X_test_backup = X_test"
   ]
  },
  {
   "cell_type": "code",
   "execution_count": 88,
   "metadata": {},
   "outputs": [],
   "source": [
    "# X_train =  X_train_backup\n",
    "# X_test = X_test_backup"
   ]
  },
  {
   "cell_type": "markdown",
   "metadata": {},
   "source": [
    "## Vectorizing reviews into vectors - CountVectorizer"
   ]
  },
  {
   "cell_type": "code",
   "execution_count": 89,
   "metadata": {},
   "outputs": [],
   "source": [
    "count_vectorizer = CountVectorizer(analyzer = 'word', tokenizer = None, lowercase = False, min_df = 15, max_df = 0.3)\n",
    "count_vectorizer.fit(X_train)\n",
    "X_train = count_vectorizer.transform(X_train)\n",
    "X_test = count_vectorizer.transform(X_test)"
   ]
  },
  {
   "cell_type": "code",
   "execution_count": 90,
   "metadata": {},
   "outputs": [
    {
     "name": "stdout",
     "output_type": "stream",
     "text": [
      "(39299, 12803)\n",
      "(9825, 12803)\n",
      "(49124,)\n",
      "(9825,)\n"
     ]
    }
   ],
   "source": [
    "print(X_train.shape)\n",
    "print(X_test.shape)\n",
    "print(y_train.shape)\n",
    "print(y_test.shape)"
   ]
  },
  {
   "cell_type": "markdown",
   "metadata": {},
   "source": [
    "## Vectorizing reviews into vectors - TFIDF Vectorizer"
   ]
  },
  {
   "cell_type": "code",
   "execution_count": 39,
   "metadata": {},
   "outputs": [],
   "source": [
    "X_train_tfidf = X_train_backup\n",
    "X_test_tfidf = X_test_backup\n",
    "tfidf_vectorizer = TfidfVectorizer(analyzer = 'word', tokenizer = None, lowercase = False, min_df = 15, max_df = 0.3)\n",
    "tfidf_vectorizer.fit(X_train_tfidf)\n",
    "X_train_tfidf = tfidf_vectorizer.transform(X_train_tfidf)\n",
    "X_test_tfidf = count_vectorizer.transform(X_test_tfidf)"
   ]
  },
  {
   "cell_type": "code",
   "execution_count": 40,
   "metadata": {},
   "outputs": [
    {
     "data": {
      "text/plain": [
       "(39299, 12803)"
      ]
     },
     "execution_count": 40,
     "metadata": {},
     "output_type": "execute_result"
    }
   ],
   "source": [
    "X_train_tfidf.shape"
   ]
  },
  {
   "cell_type": "markdown",
   "metadata": {},
   "source": [
    "## Building Classifier models - GridSearchCV and 10-fold CV (CountVectorized Features)"
   ]
  },
  {
   "cell_type": "code",
   "execution_count": 46,
   "metadata": {},
   "outputs": [],
   "source": [
    "# Model training Logistic Regssion\n",
    "classifier_LR = LogisticRegression(random_state = 0)\n",
    "\n",
    "# # Model training K-NN\n",
    "# classifier_KNN = KNeighborsClassifier(n_neighbors = 5, metric = 'minkowski', p = 2)\n",
    "\n",
    "# # Model training SVM\n",
    "# classifier_SVM = SVC(C = 1.0, kernel = 'linear', random_state = 0)\n",
    "\n",
    "# Model training Naive Bayes\n",
    "# classifier_NB = GaussianNB()\n",
    "\n",
    "# Model training Random Forest\n",
    "classifier_RF = RandomForestClassifier(n_estimators = 10, criterion='entropy', random_state = 0)\n",
    "\n",
    "# Model training Decision Tree\n",
    "# from sklearn.tree import DecisionTreeClassifier\n",
    "classifier_DT = DecisionTreeClassifier(criterion = 'entropy', random_state = 0)\n",
    "\n",
    "# Model training Kernel SVM\n",
    "# from sklearn.svm import SVC\n",
    "# classifier_K_SVM = SVC(C = 1.0, kernel = 'rbf', gamma = 'auto', random_state = 0)\n",
    "\n",
    "# Applying GridSearch Cross Validation to find out best mean accuracies of various models\n",
    "y_train = np.asarray(y_train, dtype = float )\n",
    "y_test = np.asarray(y_test, dtype = float )\n",
    "classifiers_list = [\n",
    "                   (classifier_LR,'classifier_LR'), #(classifier_SVM,'classifier_SVM'), #(classifier_KNN,'classifier_KNN'), \n",
    "                   #(classifier_NB,'classifier_NB'), \n",
    "                   (classifier_RF,'classifier_RF'),\n",
    "                   (classifier_DT,'classifier_DT'), #(classifier_K_SVM,'classifier_K_SVM') \n",
    "                    ]\n",
    "# Grid-Search\n",
    "Grid_srch_parameters_list = [ [{'C': [0.01, 0.1, 0.5, 1.0, 10, 100], 'class_weight': ['balanced']}],\n",
    "#                             [{'n_neighbors':[3,5],'weights':['uniform'],'p':[1]}],\n",
    "#                             [{'C':[1.0],'kernel':['linear']}],\n",
    "                            #[{}],\n",
    "                            [{'n_estimators':[5,10],'criterion':['entropy','gini']}], \n",
    "                            [{'criterion':['entropy','gini'], 'max_features':['auto','sqrt','log2']}],\n",
    "#                             [{'C':[1.0],'kernel':['rbf'],'gamma':['auto']}]\n",
    "                            ]\n",
    "\n",
    "#GridSearchCV custom scorer definition\n",
    "score_func = make_scorer(custom_accuracy_score, greater_is_better=True)"
   ]
  },
  {
   "cell_type": "code",
   "execution_count": 47,
   "metadata": {
    "scrolled": false
   },
   "outputs": [
    {
     "name": "stderr",
     "output_type": "stream",
     "text": [
      "C:\\ProgramData\\Anaconda3\\lib\\site-packages\\sklearn\\svm\\base.py:922: ConvergenceWarning: Liblinear failed to converge, increase the number of iterations.\n",
      "  \"the number of iterations.\", ConvergenceWarning)\n",
      "No handles with labels found to put in legend.\n"
     ]
    },
    {
     "name": "stdout",
     "output_type": "stream",
     "text": [
      "Showing performance of classifier_LR\n",
      "Best parameters: {'C': 0.1, 'class_weight': 'balanced'}\n",
      "Confusion Matrix: \n",
      "[[4302  679]\n",
      " [ 597 4247]]\n",
      "****BEST ACC: 0.8772487849563602\n",
      "*SENSITIVITY: 0.8621599675192855\n",
      "*SPECIFICITY: 0.8781383955909369\n"
     ]
    },
    {
     "data": {
      "image/png": "[encoded data removed]",
      "text/plain": [
       "<Figure size 432x288 with 1 Axes>"
      ]
     },
     "metadata": {},
     "output_type": "display_data"
    },
    {
     "name": "stderr",
     "output_type": "stream",
     "text": [
      "No handles with labels found to put in legend.\n"
     ]
    },
    {
     "name": "stdout",
     "output_type": "stream",
     "text": [
      "Showing performance of classifier_RF\n",
      "Best parameters: {'criterion': 'entropy', 'n_estimators': 10}\n",
      "Confusion Matrix: \n",
      "[[4175  806]\n",
      " [1171 3673]]\n",
      "****BEST ACC: 0.7942186824092216\n",
      "*SENSITIVITY: 0.8200491181067202\n",
      "*SPECIFICITY: 0.7809577254021699\n"
     ]
    },
    {
     "data": {
      "image/png": "[encoded data removed]",
      "text/plain": [
       "<Figure size 432x288 with 1 Axes>"
      ]
     },
     "metadata": {},
     "output_type": "display_data"
    },
    {
     "name": "stderr",
     "output_type": "stream",
     "text": [
      "No handles with labels found to put in legend.\n"
     ]
    },
    {
     "name": "stdout",
     "output_type": "stream",
     "text": [
      "Showing performance of classifier_DT\n",
      "Best parameters: {'criterion': 'entropy', 'max_features': 'auto'}\n",
      "Confusion Matrix: \n",
      "[[3698 1283]\n",
      " [1296 3548]]\n",
      "****BEST ACC: 0.6966843940049365\n",
      "*SENSITIVITY: 0.7344235148002484\n",
      "*SPECIFICITY: 0.7404885863035643\n"
     ]
    },
    {
     "data": {
      "image/png": "[encoded data removed]",
      "text/plain": [
       "<Figure size 432x288 with 1 Axes>"
      ]
     },
     "metadata": {},
     "output_type": "display_data"
    }
   ],
   "source": [
    "import warnings\n",
    "warnings.filterwarnings(\"ignore\", category=FutureWarning)\n",
    "\n",
    "i, length = 0, len(classifiers_list) + 1\n",
    "for clf in classifiers_list:\n",
    "    # Fitting classifier to training data\n",
    "    clf[0].fit(X_train, y_train)\n",
    "    # Predicting output\n",
    "    y_pred = clf[0].predict(X_test)\n",
    "    grid_search = GridSearchCV(estimator = clf[0], param_grid = Grid_srch_parameters_list[i], scoring = score_func,cv = 10)\n",
    "    grid_search = grid_search.fit(X_train, y_train)\n",
    "    best_accuracy = grid_search.best_score_\n",
    "    best_parameters = grid_search.best_params_\n",
    "    print('Showing performance of ' + clf[1])\n",
    "    print('Best parameters: ' + str(grid_search.best_params_))\n",
    "    cm = confusion_matrix(y_test, y_pred)\n",
    "    print(\"Confusion Matrix: \\n\" + str(cm)) #Actual on the Left, Pred at the Top\n",
    "    print(\"****BEST ACC: \" + str(grid_search.best_score_))\n",
    "    print(\"*SENSITIVITY: \" + str(custom_sensitivity_score(y_test, y_pred)))\n",
    "    print(\"*SPECIFICITY: \" + str(custom_specificity_score(y_test, y_pred)))\n",
    "    plot_roc(y_test, y_pred)\n",
    "    i=i+1"
   ]
  },
  {
   "cell_type": "markdown",
   "metadata": {},
   "source": [
    "## Building Classifier models - GridSearchCV and 10-fold CV (TFIDF Vectorized Features)"
   ]
  },
  {
   "cell_type": "code",
   "execution_count": 50,
   "metadata": {},
   "outputs": [],
   "source": [
    "# Model training Logistic Regssion\n",
    "classifier_LR = LogisticRegression(random_state = 0)\n",
    "\n",
    "# # Model training K-NN\n",
    "# classifier_KNN = KNeighborsClassifier(n_neighbors = 5, metric = 'minkowski', p = 2)\n",
    "\n",
    "# # Model training SVM\n",
    "# classifier_SVM = SVC(C = 1.0, kernel = 'linear', random_state = 0)\n",
    "\n",
    "# Model training Naive Bayes\n",
    "# classifier_NB = GaussianNB()\n",
    "\n",
    "# Model training Random Forest\n",
    "classifier_RF = RandomForestClassifier(n_estimators = 10, criterion='entropy', random_state = 0)\n",
    "\n",
    "# Model training Decision Tree\n",
    "# from sklearn.tree import DecisionTreeClassifier\n",
    "classifier_DT = DecisionTreeClassifier(criterion = 'entropy', random_state = 0)\n",
    "\n",
    "# Model training Kernel SVM\n",
    "# from sklearn.svm import SVC\n",
    "# classifier_K_SVM = SVC(C = 1.0, kernel = 'rbf', gamma = 'auto', random_state = 0)\n",
    "\n",
    "# Applying GridSearch Cross Validation to find out best mean accuracies of various models\n",
    "# y_train = np.asarray(y_train, dtype = float )\n",
    "# y_test = np.asarray(y_test, dtype = float )\n",
    "classifiers_list = [\n",
    "                   (classifier_LR,'classifier_LR'), #(classifier_SVM,'classifier_SVM'), #(classifier_KNN,'classifier_KNN'), \n",
    "                   #(classifier_NB,'classifier_NB'), \n",
    "                   (classifier_RF,'classifier_RF'),\n",
    "                   (classifier_DT,'classifier_DT'), #(classifier_K_SVM,'classifier_K_SVM') \n",
    "                    ]\n",
    "# Grid-Search\n",
    "Grid_srch_parameters_list = [ [{'C': [0.01, 0.1, 0.5, 1.0, 10, 100], 'class_weight': ['balanced']}],\n",
    "#                             [{'n_neighbors':[3,5],'weights':['uniform'],'p':[1]}],\n",
    "#                             [{'C':[1.0],'kernel':['linear']}],\n",
    "                            #[{}],\n",
    "                            [{'n_estimators':[5,10],'criterion':['entropy','gini']}], \n",
    "                            [{'criterion':['entropy','gini'], 'max_features':['auto','sqrt','log2']}],\n",
    "#                             [{'C':[1.0],'kernel':['rbf'],'gamma':['auto']}]\n",
    "                            ]\n",
    "\n",
    "#GridSearchCV custom scorer definition\n",
    "score_func = make_scorer(custom_accuracy_score, greater_is_better=True)\n"
   ]
  },
  {
   "cell_type": "code",
   "execution_count": 51,
   "metadata": {},
   "outputs": [
    {
     "name": "stderr",
     "output_type": "stream",
     "text": [
      "No handles with labels found to put in legend.\n"
     ]
    },
    {
     "name": "stdout",
     "output_type": "stream",
     "text": [
      "Showing performance of classifier_LR\n",
      "Best parameters: {'C': 1.0, 'class_weight': 'balanced'}\n",
      "Confusion Matrix: \n",
      "[[3698 1283]\n",
      " [1296 3548]]\n",
      "****BEST ACC: 0.8807603246901957\n",
      "*SENSITIVITY: 0.7344235148002484\n",
      "*SPECIFICITY: 0.7404885863035643\n"
     ]
    },
    {
     "data": {
      "image/png": "[encoded data removed]",
      "text/plain": [
       "<Figure size 432x288 with 1 Axes>"
      ]
     },
     "metadata": {},
     "output_type": "display_data"
    },
    {
     "name": "stderr",
     "output_type": "stream",
     "text": [
      "No handles with labels found to put in legend.\n"
     ]
    },
    {
     "name": "stdout",
     "output_type": "stream",
     "text": [
      "Showing performance of classifier_RF\n",
      "Best parameters: {'criterion': 'entropy', 'n_estimators': 10}\n",
      "Confusion Matrix: \n",
      "[[3698 1283]\n",
      " [1296 3548]]\n",
      "****BEST ACC: 0.7970177358202499\n",
      "*SENSITIVITY: 0.7344235148002484\n",
      "*SPECIFICITY: 0.7404885863035643\n"
     ]
    },
    {
     "data": {
      "image/png": "[encoded data removed]",
      "text/plain": [
       "<Figure size 432x288 with 1 Axes>"
      ]
     },
     "metadata": {},
     "output_type": "display_data"
    },
    {
     "name": "stderr",
     "output_type": "stream",
     "text": [
      "No handles with labels found to put in legend.\n"
     ]
    },
    {
     "name": "stdout",
     "output_type": "stream",
     "text": [
      "Showing performance of classifier_DT\n",
      "Best parameters: {'criterion': 'entropy', 'max_features': 'auto'}\n",
      "Confusion Matrix: \n",
      "[[3698 1283]\n",
      " [1296 3548]]\n",
      "****BEST ACC: 0.6989236367337591\n",
      "*SENSITIVITY: 0.7344235148002484\n",
      "*SPECIFICITY: 0.7404885863035643\n"
     ]
    },
    {
     "data": {
      "image/png": "[encoded data removed]",
      "text/plain": [
       "<Figure size 432x288 with 1 Axes>"
      ]
     },
     "metadata": {},
     "output_type": "display_data"
    }
   ],
   "source": [
    "import warnings\n",
    "warnings.filterwarnings(\"ignore\", category=FutureWarning)\n",
    "\n",
    "i, length = 0, len(classifiers_list) + 1\n",
    "for clf in classifiers_list:\n",
    "    # Fitting classifier to training data\n",
    "    clf[0].fit(X_train_tfidf, y_train)\n",
    "    # Predicting output\n",
    "    y_pred_tfidf = clf[0].predict(X_test_tfidf)\n",
    "    grid_search = GridSearchCV(estimator = clf[0], param_grid = Grid_srch_parameters_list[i], scoring = score_func,cv = 10)\n",
    "    grid_search = grid_search.fit(X_train_tfidf, y_train)\n",
    "    best_accuracy = grid_search.best_score_\n",
    "    best_parameters = grid_search.best_params_\n",
    "    print('Showing performance of ' + clf[1])\n",
    "    print('Best parameters: ' + str(grid_search.best_params_))\n",
    "    cm = confusion_matrix(y_test, y_pred)\n",
    "    print(\"Confusion Matrix: \\n\" + str(cm)) #Actual on the Left, Pred at the Top\n",
    "    print(\"****BEST ACC: \" + str(grid_search.best_score_))\n",
    "    print(\"*SENSITIVITY: \" + str(custom_sensitivity_score(y_test, y_pred)))\n",
    "    print(\"*SPECIFICITY: \" + str(custom_specificity_score(y_test, y_pred)))\n",
    "    plot_roc(y_test, y_pred)\n",
    "    i=i+1"
   ]
  },
  {
   "cell_type": "markdown",
   "metadata": {},
   "source": [
    "## Pulling out specific reviews as examples"
   ]
  },
  {
   "cell_type": "markdown",
   "metadata": {},
   "source": [
    "## Both correct"
   ]
  },
  {
   "cell_type": "markdown",
   "metadata": {},
   "source": [
    "Example 1: Where both ML and Lexicon were correct"
   ]
  },
  {
   "cell_type": "code",
   "execution_count": 119,
   "metadata": {},
   "outputs": [
    {
     "name": "stdout",
     "output_type": "stream",
     "text": [
      "Lexicon Prediction: \n",
      "Negative\n",
      "LogisticRegression Prediction: \n",
      "Negative\n"
     ]
    }
   ],
   "source": [
    "#Lexicon prediction\n",
    "print('Lexicon Prediction: ')\n",
    "print('Negative' if list(analyzer_var.polarity_scores(X_test_backup[0]).values())[3] <= 0 else 'Positive')\n",
    "\n",
    "#ML prediction\n",
    "print('LogisticRegression Prediction: ')\n",
    "print('Negative' if y_pred[0] == 0 else 'Positive')"
   ]
  },
  {
   "cell_type": "code",
   "execution_count": 70,
   "metadata": {
    "scrolled": true
   },
   "outputs": [
    {
     "data": {
      "text/plain": [
       "\"['slouch redeem social whatev book suppress huck finn heart dark deep throat latest hostag behead sincer wish lover porn violenc entertain chanc upon tend camera_angl pan light rhythm exclus fear titil miss filmmak actor footag argu exist wrong wiser harder deconstruct unpleas cinema pan etc insepar matter content horror filmmak church architect common add polit filmmak fascist manipul light space sound order percept mood goal goal real atroc propaganda origin night long anl trilog shelf left unwatch curios buy sampl minut arriv awkward sound street corner stab attack sensibl inept relish prospect clear sublim horror kairo cure angel dust lain rawer tradit frame horror evil dead trap overt polit work koji wakamatsu brilliant cruditi earli cronenberg attack key matsumura attack charact histori abu garib evidenc video hostag video godard tortur petit soldat atroc job fraction workday prolong news stori detail bare entir forget entail cinema duo serial_killer notori suggest play game memori videotap tortur victim anl entri reveng cinema vigilant exercis attach note anl ambiti constitut turn director matsumura entri anl offer camera fallen hand fring kid middl grammar school obsess draw war scene atroc matsumura reveng craze charact turn writer director michael_powel peep_tom anl aspir mainstream matsumura protagonist grow carnivor plant allow typic japanes cool close natur shot matsumura tradit erot sequenc kikuo femal boss sneak begin caress peep love hotel custom kikou unhappili sandwich middleman voyeur brief thrill layer voyeur philosoph poetic garbag sifter garbag voyeur somehow poem repeat wakamatsu sound like secondtim virgin nowher escap suspicion walk matsumura retrospect local archiv host charact caught miss matter whether director lethal muddl protagonist director job spew critic sociologist hash directori artist respons bogus notion final struggl earth woman overwhelm male exercis women star war cetera cetera quit male skew night long']\""
      ]
     },
     "execution_count": 70,
     "metadata": {},
     "output_type": "execute_result"
    }
   ],
   "source": [
    "#Print review:\n",
    "X_test_backup[0]"
   ]
  },
  {
   "cell_type": "markdown",
   "metadata": {},
   "source": [
    "Example 2: Where both ML and Lexicon were correct"
   ]
  },
  {
   "cell_type": "code",
   "execution_count": 124,
   "metadata": {},
   "outputs": [
    {
     "name": "stdout",
     "output_type": "stream",
     "text": [
      "Lexicon Prediction: \n",
      "Positive\n",
      "LogisticRegression Prediction: \n",
      "Positive\n"
     ]
    }
   ],
   "source": [
    "#Lexicon prediction\n",
    "print('Lexicon Prediction: ')\n",
    "print('Negative' if list(analyzer_var.polarity_scores(X_test_backup[3]).values())[3] <= 0 else 'Positive')\n",
    "\n",
    "#ML prediction\n",
    "print('LogisticRegression Prediction: ')\n",
    "print('Negative' if y_pred[3] == 0 else 'Positive')"
   ]
  },
  {
   "cell_type": "code",
   "execution_count": 126,
   "metadata": {
    "scrolled": false
   },
   "outputs": [
    {
     "data": {
      "text/plain": [
       "\"['episod friend introduc control freak monica gellar courtney_cox newli divorc ross gellar david schimmer hippi pheob buffay lisa_kudrow unknown actor ladi man matt blanc sarcast chandler bing matthew_perri scene start introduc final friend spoilt kid rachel green jennif_aniston episod better credit like new sitcom episod fantast act episod great cast identifi arnt new charact kudrow perri shine matt blanc man act dread confid funni fail david schimmer pronounc speak normal funniest charact season confid sympathis jennif_aniston hot good job rachel green real rachel season courtney_cox quit anorex episod worri total healthili act littl sketchi minut pilot lisa_kudrow matthew_perri togeth comic act qualiti superb lisa role natur pheob pheeb matthew_perri matthew_perri play basic episod qualiti set dark creepi episod unfriend act charact gain confid new scene proud pilot hope friend reunit caus']\""
      ]
     },
     "execution_count": 126,
     "metadata": {},
     "output_type": "execute_result"
    }
   ],
   "source": [
    "#Print review:\n",
    "X_test_backup[3]"
   ]
  },
  {
   "cell_type": "markdown",
   "metadata": {},
   "source": [
    "Example 3: Where both ML and Lexicon were correct"
   ]
  },
  {
   "cell_type": "code",
   "execution_count": 128,
   "metadata": {},
   "outputs": [
    {
     "name": "stdout",
     "output_type": "stream",
     "text": [
      "Lexicon Prediction: \n",
      "Negative\n",
      "LogisticRegression Prediction: \n",
      "Negative\n"
     ]
    }
   ],
   "source": [
    "#Lexicon prediction\n",
    "print('Lexicon Prediction: ')\n",
    "print('Negative' if list(analyzer_var.polarity_scores(X_test_backup[11]).values())[3] <= 0 else 'Positive')\n",
    "\n",
    "#ML prediction\n",
    "print('LogisticRegression Prediction: ')\n",
    "print('Negative' if y_pred[11] == 0 else 'Positive')"
   ]
  },
  {
   "cell_type": "code",
   "execution_count": 129,
   "metadata": {
    "scrolled": true
   },
   "outputs": [
    {
     "data": {
      "text/plain": [
       "\"['lack content amaz compar rock surpris worst rock stori horribl cast ajay_devgan jam salman_khan asin gotta kid music okay khanabadosh track bad vipul_shah singh king critic bash comedi asin sorri asin fan suck big serious bad act good overdos final_verdict aladin famili instead wast']\""
      ]
     },
     "execution_count": 129,
     "metadata": {},
     "output_type": "execute_result"
    }
   ],
   "source": [
    "#Print review:\n",
    "X_test_backup[11]"
   ]
  },
  {
   "cell_type": "markdown",
   "metadata": {},
   "source": [
    "## ML correct, Lexicon wrong"
   ]
  },
  {
   "cell_type": "markdown",
   "metadata": {},
   "source": [
    "Example 1: Where ML was correct, but Lexicon was wrong"
   ]
  },
  {
   "cell_type": "code",
   "execution_count": 127,
   "metadata": {},
   "outputs": [
    {
     "name": "stdout",
     "output_type": "stream",
     "text": [
      "Lexicon Prediction: \n",
      "Negative\n",
      "LogisticRegression Prediction: \n",
      "Positive\n"
     ]
    }
   ],
   "source": [
    "#Lexicon prediction\n",
    "print('Lexicon Prediction: ')\n",
    "print('Negative' if list(analyzer_var.polarity_scores(X_test_backup[10]).values())[3] <= 0 else 'Positive')\n",
    "\n",
    "#ML prediction\n",
    "print('LogisticRegression Prediction: ')\n",
    "print('Negative' if y_pred[10] == 0 else 'Positive')"
   ]
  },
  {
   "cell_type": "code",
   "execution_count": 130,
   "metadata": {
    "scrolled": true
   },
   "outputs": [
    {
     "data": {
      "text/plain": [
       "\"['enjoy grant enjoy sean_conneri act ad_bonus harri stori grandma conneri assist grandson prison wrong convict racist aspect case turn offic case black bad coerc confess boy boy killer lock prison death particular nasti joy write victim mail twist turn unexpect enjoy sean_conneri charact sens ordeal mad area ultim good interplay conneri harri shine end good suspens thriller']\""
      ]
     },
     "execution_count": 130,
     "metadata": {},
     "output_type": "execute_result"
    }
   ],
   "source": [
    "#Print review:\n",
    "X_test_backup[10]"
   ]
  },
  {
   "cell_type": "markdown",
   "metadata": {},
   "source": [
    "Example 2: Where ML was correct, but Lexicon was wrong"
   ]
  },
  {
   "cell_type": "code",
   "execution_count": 157,
   "metadata": {},
   "outputs": [
    {
     "name": "stdout",
     "output_type": "stream",
     "text": [
      "Lexicon Prediction: \n",
      "Negative\n",
      "LogisticRegression Prediction: \n",
      "Positive\n"
     ]
    }
   ],
   "source": [
    "#Lexicon prediction\n",
    "print('Lexicon Prediction: ')\n",
    "print('Negative' if list(analyzer_var.polarity_scores(X_test_backup[51]).values())[3] <= 0 else 'Positive')\n",
    "\n",
    "#ML prediction\n",
    "print('LogisticRegression Prediction: ')\n",
    "print('Negative' if y_pred[51] == 0 else 'Positive')"
   ]
  },
  {
   "cell_type": "code",
   "execution_count": 156,
   "metadata": {},
   "outputs": [
    {
     "data": {
      "text/plain": [
       "\"['fascin documentari old black lad accus murder tourist florida subsiqu court case show corrupt american polic system easi convict innoc man senil old fool black man like sod rot jail man murder wife star defenc lawyer brilliant job court polic fascin']\""
      ]
     },
     "execution_count": 156,
     "metadata": {},
     "output_type": "execute_result"
    }
   ],
   "source": [
    "#Print review:\n",
    "X_test_backup[51]"
   ]
  },
  {
   "cell_type": "markdown",
   "metadata": {},
   "source": [
    "Example 3: Where ML was correct, but Lexicon was wrong"
   ]
  },
  {
   "cell_type": "code",
   "execution_count": 173,
   "metadata": {},
   "outputs": [
    {
     "name": "stdout",
     "output_type": "stream",
     "text": [
      "Lexicon Prediction: \n",
      "Negative\n",
      "LogisticRegression Prediction: \n",
      "Positive\n"
     ]
    }
   ],
   "source": [
    "#Lexicon prediction\n",
    "print('Lexicon Prediction: ')\n",
    "print('Negative' if list(analyzer_var.polarity_scores(X_test_backup[57]).values())[3] <= 0 else 'Positive')\n",
    "\n",
    "#ML prediction\n",
    "print('LogisticRegression Prediction: ')\n",
    "print('Negative' if y_pred[57] == 0 else 'Positive')"
   ]
  },
  {
   "cell_type": "code",
   "execution_count": 174,
   "metadata": {},
   "outputs": [
    {
     "data": {
      "text/plain": [
       "\"['stori friendship shook south_africa awaken world direct bridg gandhi stori steve_biko life journey troubl journalist donald_wood order stori told wood book basi biko troubl late south_africa south_africa grip terribl apartheid black separ white classifi white superior race black forc live shantytown outskirt citi town frequent harass polic armi dawn raid shantytown bulldoz arm polic forc camp beat kill inhabit introduc donald_wood kevin_kline editor popular newspap publish negat stori black wood meet wari good friend biko show horror apartheid system black wood encourag wood speak desper steve_biko stori clutch white man south_africa world steve_biko arrest kill prison wood famili dare escap south_africa england wood publish book steve_biko apartheid cri_freedom impress dedic life steve_biko steve_biko event stori donald_wood journey border lesotho elud south_african offici wood five hous arrest steve_biko kill order publish manuscript steve_biko escap manuscript consid treason south_africa result wood meet fate similar biko real donald_wood wife act consult disappoint entir amaz steve_biko read accent sound perfect perform best support actor kevin_kline deliv excel evok perform donald_wood penelop_wilton excel wife wendi film took zimbabw needless_say problem aros south_africa south_africa south_african gestapo crew everywher bad vibe pull neighbour zimbabw instead everyth apartheid end til seven cri_freedom ban south_africa cinema show receiv bomb threat horror apartheid screen extrem forc determin hold end show suppos peac protest student shantytown turn massacr polic fire end anti_apartheid mover die prison explan death explan quit epilepsi hard fell top stair suicid hang fair none men die hand hand precis hand polic cri_freedom stori steve_biko sear devast beauti land divid hellish grip racial segreg violenc']\""
      ]
     },
     "execution_count": 174,
     "metadata": {},
     "output_type": "execute_result"
    }
   ],
   "source": [
    "#Print review:\n",
    "X_test_backup[57]"
   ]
  },
  {
   "cell_type": "markdown",
   "metadata": {},
   "source": [
    "## Lexicon correct, ML wrong"
   ]
  },
  {
   "cell_type": "markdown",
   "metadata": {},
   "source": [
    "Example 1: Where Lexicon was correct, but ML was wrong"
   ]
  },
  {
   "cell_type": "code",
   "execution_count": 131,
   "metadata": {},
   "outputs": [
    {
     "name": "stdout",
     "output_type": "stream",
     "text": [
      "Lexicon Prediction: \n",
      "Positive\n",
      "LogisticRegression Prediction: \n",
      "Negative\n"
     ]
    }
   ],
   "source": [
    "#Lexicon prediction\n",
    "print('Lexicon Prediction: ')\n",
    "print('Negative' if list(analyzer_var.polarity_scores(X_test_backup[15]).values())[3] <= 0 else 'Positive')\n",
    "\n",
    "#ML prediction\n",
    "print('LogisticRegression Prediction: ')\n",
    "print('Negative' if y_pred[15] == 0 else 'Positive')"
   ]
  },
  {
   "cell_type": "code",
   "execution_count": 132,
   "metadata": {},
   "outputs": [
    {
     "data": {
      "text/plain": [
       "\"['sad someon good end mediocr jordan play basebal appli steve_martin act direct script stinker martin great job adapt classic stori comedi roxann effort victorian drama contemporari scene smack straight wall implaus old stori updat style best rent great']\""
      ]
     },
     "execution_count": 132,
     "metadata": {},
     "output_type": "execute_result"
    }
   ],
   "source": [
    "#Print review:\n",
    "X_test_backup[15]"
   ]
  },
  {
   "cell_type": "markdown",
   "metadata": {},
   "source": [
    "Example 2: Where Lexicon was correct, but ML was wrong"
   ]
  },
  {
   "cell_type": "code",
   "execution_count": 143,
   "metadata": {},
   "outputs": [
    {
     "name": "stdout",
     "output_type": "stream",
     "text": [
      "Lexicon Prediction: \n",
      "Positive\n",
      "LogisticRegression Prediction: \n",
      "Negative\n"
     ]
    }
   ],
   "source": [
    "#Lexicon prediction\n",
    "print('Lexicon Prediction: ')\n",
    "print('Negative' if list(analyzer_var.polarity_scores(X_test_backup[20]).values())[3] <= 0 else 'Positive')\n",
    "\n",
    "#ML prediction\n",
    "print('LogisticRegression Prediction: ')\n",
    "print('Negative' if y_pred[20] == 0 else 'Positive')"
   ]
  },
  {
   "cell_type": "code",
   "execution_count": 144,
   "metadata": {},
   "outputs": [
    {
     "data": {
      "text/plain": [
       "\"['dolph_lundgren brood scowl incoher mysteri thriller cool box quit good stori mess clich detect reveng tycoon hooker like second half decent lundgren flick rent red scorpion instead']\""
      ]
     },
     "execution_count": 144,
     "metadata": {},
     "output_type": "execute_result"
    }
   ],
   "source": [
    "#Print review:\n",
    "X_test_backup[20]"
   ]
  },
  {
   "cell_type": "markdown",
   "metadata": {},
   "source": [
    "Example 3: Where Lexicon was correct, but ML was wrong"
   ]
  },
  {
   "cell_type": "code",
   "execution_count": 150,
   "metadata": {},
   "outputs": [
    {
     "name": "stdout",
     "output_type": "stream",
     "text": [
      "Lexicon Prediction: \n",
      "Positive\n",
      "LogisticRegression Prediction: \n",
      "Negative\n"
     ]
    }
   ],
   "source": [
    "#Lexicon prediction\n",
    "print('Lexicon Prediction: ')\n",
    "print('Negative' if list(analyzer_var.polarity_scores(X_test_backup[27]).values())[3] <= 0 else 'Positive')\n",
    "\n",
    "#ML prediction\n",
    "print('LogisticRegression Prediction: ')\n",
    "print('Negative' if y_pred[27] == 0 else 'Positive')"
   ]
  },
  {
   "cell_type": "code",
   "execution_count": 149,
   "metadata": {},
   "outputs": [
    {
     "data": {
      "text/plain": [
       "\"['pegg hit past start shaun_dead hot_fuzz earli run fat boy run lose friend alien favourit comedi sidney yound man write fail magazin fun celebr most success magazin owner play jeff_bridg invit nostalgia work magazin sidney excit move america meet girl current write book hilar_ensu great hope like futur pegg given everywher good third blood ice_cream trilog paul']\""
      ]
     },
     "execution_count": 149,
     "metadata": {},
     "output_type": "execute_result"
    }
   ],
   "source": [
    "#Print review:\n",
    "X_test_backup[27]"
   ]
  },
  {
   "cell_type": "markdown",
   "metadata": {},
   "source": [
    "## Both wrong"
   ]
  },
  {
   "cell_type": "code",
   "execution_count": null,
   "metadata": {},
   "outputs": [],
   "source": [
    "Example 1: Where both ML and Lexicon were wrong"
   ]
  },
  {
   "cell_type": "code",
   "execution_count": 121,
   "metadata": {},
   "outputs": [
    {
     "name": "stdout",
     "output_type": "stream",
     "text": [
      "Lexicon Prediction: \n",
      "Negative\n",
      "LogisticRegression Prediction: \n",
      "Negative\n"
     ]
    }
   ],
   "source": [
    "#Lexicon prediction\n",
    "print('Lexicon Prediction: ')\n",
    "print('Negative' if list(analyzer_var.polarity_scores(X_test_backup[1]).values())[3] <= 0 else 'Positive')\n",
    "\n",
    "#ML prediction\n",
    "print('LogisticRegression Prediction: ')\n",
    "print('Negative' if y_pred[1] == 0 else 'Positive')"
   ]
  },
  {
   "cell_type": "code",
   "execution_count": 122,
   "metadata": {},
   "outputs": [
    {
     "data": {
      "text/plain": [
       "\"['curios led masterpiec unfortun rent bought disturb disturb maker set show human jeffri dahmer kid man new mean term finger lickin good flash flash_forward troubl stori jeremi renner perform bad catch play disgruntl cop renner perform plenti book documentari better job cover dahmer crime avoid']\""
      ]
     },
     "execution_count": 122,
     "metadata": {},
     "output_type": "execute_result"
    }
   ],
   "source": [
    "#Print review:\n",
    "X_test_backup[1]"
   ]
  },
  {
   "cell_type": "markdown",
   "metadata": {},
   "source": [
    "Example 2: Where both ML and Lexicon were wrong"
   ]
  },
  {
   "cell_type": "code",
   "execution_count": 164,
   "metadata": {
    "scrolled": true
   },
   "outputs": [
    {
     "name": "stdout",
     "output_type": "stream",
     "text": [
      "Lexicon Prediction: \n",
      "Negative\n",
      "LogisticRegression Prediction: \n",
      "Negative\n"
     ]
    }
   ],
   "source": [
    "#Lexicon prediction\n",
    "print('Lexicon Prediction: ')\n",
    "print('Negative' if list(analyzer_var.polarity_scores(X_test_backup[54]).values())[3] <= 0 else 'Positive')\n",
    "\n",
    "#ML prediction\n",
    "print('LogisticRegression Prediction: ')\n",
    "print('Negative' if y_pred[54] == 0 else 'Positive')"
   ]
  },
  {
   "cell_type": "code",
   "execution_count": 165,
   "metadata": {},
   "outputs": [
    {
     "data": {
      "text/plain": [
       "\"['hope suggest american friend finish close war long patriot critic like flat loc forget budget preclud director intellig length bad repetit attack hill loc terribl terrain hill like backyard charact develop sequenc soilder flashback deploy clump long memori end better call border']\""
      ]
     },
     "execution_count": 165,
     "metadata": {},
     "output_type": "execute_result"
    }
   ],
   "source": [
    "#Print review:\n",
    "X_test_backup[54]"
   ]
  },
  {
   "cell_type": "markdown",
   "metadata": {},
   "source": [
    "Example 3: Where both ML and Lexicon were wrong"
   ]
  },
  {
   "cell_type": "code",
   "execution_count": 175,
   "metadata": {},
   "outputs": [
    {
     "name": "stdout",
     "output_type": "stream",
     "text": [
      "Lexicon Prediction: \n",
      "Negative\n",
      "LogisticRegression Prediction: \n",
      "Negative\n"
     ]
    }
   ],
   "source": [
    "#Lexicon prediction\n",
    "print('Lexicon Prediction: ')\n",
    "print('Negative' if list(analyzer_var.polarity_scores(X_test_backup[56]).values())[3] <= 0 else 'Positive')\n",
    "\n",
    "#ML prediction\n",
    "print('LogisticRegression Prediction: ')\n",
    "print('Negative' if y_pred[56] == 0 else 'Positive')"
   ]
  },
  {
   "cell_type": "code",
   "execution_count": 176,
   "metadata": {},
   "outputs": [
    {
     "data": {
      "text/plain": [
       "\"['howl introduc world werewolv exist organ plot sens report investig uncov truth end kill boyfriend show world exist transform live special_effect laughabl better whether transform bad puppet cheesi comput_graphic show superpow plot bad kill leader werewolv destroy werewolv end threat werewolv kill cloudi lost end minut montaug scene femal werewolf leader rip top expos larg breast devo esquir band play crowd werewolv watchabl christoph_lee']\""
      ]
     },
     "execution_count": 176,
     "metadata": {},
     "output_type": "execute_result"
    }
   ],
   "source": [
    "#Print review:\n",
    "X_test_backup[56]"
   ]
  },
  {
   "cell_type": "markdown",
   "metadata": {},
   "source": [
    "## Things I wanted to try"
   ]
  },
  {
   "cell_type": "code",
   "execution_count": null,
   "metadata": {},
   "outputs": [],
   "source": [
    "id2word_lda = gensim.corpora.Dictionary(tri_grams_df_2)\n",
    "print(len(id2word_lda))"
   ]
  },
  {
   "cell_type": "code",
   "execution_count": null,
   "metadata": {},
   "outputs": [],
   "source": [
    "id2word_lda.filter_extremes(no_below=15, no_above=0.85, keep_n=100000) # \n",
    "print(len(id2word_lda))"
   ]
  },
  {
   "cell_type": "code",
   "execution_count": null,
   "metadata": {},
   "outputs": [],
   "source": [
    "# Term document frequency =; Bag of words representation\n",
    "corpus_lda = [id2word_lda.doc2bow(doc) for doc in tri_grams_df_2]\n",
    "print(corpus_lda[0])"
   ]
  },
  {
   "cell_type": "code",
   "execution_count": null,
   "metadata": {},
   "outputs": [],
   "source": [
    "tfidf = TfidfModel(corpus_lda)\n",
    "corpus_lda_tfidf = tfidf[corpus_lda]"
   ]
  },
  {
   "cell_type": "code",
   "execution_count": null,
   "metadata": {},
   "outputs": [],
   "source": []
  },
  {
   "cell_type": "code",
   "execution_count": null,
   "metadata": {},
   "outputs": [],
   "source": []
  },
  {
   "cell_type": "code",
   "execution_count": null,
   "metadata": {},
   "outputs": [],
   "source": []
  },
  {
   "cell_type": "markdown",
   "metadata": {},
   "source": [
    "References:\n",
    "VADER paper: Hutto, C.J. & Gilbert, E.E. (2014). VADER: A Parsimonious Rule-based Model for Sentiment Analysis of Social Media Text. Eighth International Conference on Weblogs and Social Media (ICWSM-14). Ann Arbor, MI, June 2014.\n",
    "Vader: http://t-redactyl.io/blog/2017/04/using-vader-to-handle-sentiment-analysis-with-social-media-text.html\n",
    "ROC curve: https://stackoverflow.com/questions/47569394/the-graph-of-this-roc-curve-looks-strange-sklearn-svc\n",
    "Some of the standard code used here has been fetched from my earlier assignments/projects. Those codes were created by me."
   ]
  }
 ],
 "metadata": {
  "kernelspec": {
   "display_name": "Python 3",
   "language": "python",
   "name": "python3"
  },
  "language_info": {
   "codemirror_mode": {
    "name": "ipython",
    "version": 3
   },
   "file_extension": ".py",
   "mimetype": "text/x-python",
   "name": "python",
   "nbconvert_exporter": "python",
   "pygments_lexer": "ipython3",
   "version": "3.6.5"
  }
 },
 "nbformat": 4,
 "nbformat_minor": 2
}
