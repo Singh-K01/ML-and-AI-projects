{
 "cells": [
  {
   "cell_type": "markdown",
   "metadata": {},
   "source": [
    "# MNIST dataset - predicting images using Artificial Neural Net"
   ]
  },
  {
   "cell_type": "code",
   "execution_count": 85,
   "metadata": {},
   "outputs": [],
   "source": [
    "#Importing required libraries\n",
    "from sklearn import datasets\n",
    "from keras.models import Sequential\n",
    "from keras.layers import Dense, Activation\n",
    "from sklearn.model_selection import train_test_split\n",
    "from keras import optimizers\n",
    "from keras import losses\n",
    "import pandas as pd\n",
    "from sklearn.preprocessing import StandardScaler\n",
    "from sklearn.preprocessing import normalize\n",
    "from sklearn.preprocessing import OneHotEncoder\n",
    "from keras.utils import to_categorical\n",
    "from keras.callbacks import EarlyStopping\n",
    "from keras.initializers import glorot_uniform"
   ]
  },
  {
   "cell_type": "code",
   "execution_count": null,
   "metadata": {},
   "outputs": [],
   "source": []
  },
  {
   "cell_type": "code",
   "execution_count": 86,
   "metadata": {},
   "outputs": [],
   "source": [
    "# Learning #1: If your accuracy is coming out to be different everytime you train the same model, it could be due to some random\n",
    "# variables in the network. Few places you can add a Seed:\n",
    "# 1. Initializer configuration\n",
    "# 2. Train Test Split function"
   ]
  },
  {
   "cell_type": "code",
   "execution_count": null,
   "metadata": {},
   "outputs": [],
   "source": []
  },
  {
   "cell_type": "code",
   "execution_count": 87,
   "metadata": {},
   "outputs": [
    {
     "name": "stderr",
     "output_type": "stream",
     "text": [
      "C:\\ProgramData\\Anaconda3\\lib\\site-packages\\sklearn\\utils\\deprecation.py:77: DeprecationWarning: Function fetch_mldata is deprecated; fetch_mldata was deprecated in version 0.20 and will be removed in version 0.22\n",
      "  warnings.warn(msg, category=DeprecationWarning)\n",
      "C:\\ProgramData\\Anaconda3\\lib\\site-packages\\sklearn\\utils\\deprecation.py:77: DeprecationWarning: Function mldata_filename is deprecated; mldata_filename was deprecated in version 0.20 and will be removed in version 0.22\n",
      "  warnings.warn(msg, category=DeprecationWarning)\n"
     ]
    }
   ],
   "source": [
    "mnist = datasets.fetch_mldata('MNIST original', data_home='./')"
   ]
  },
  {
   "cell_type": "code",
   "execution_count": 88,
   "metadata": {},
   "outputs": [],
   "source": [
    "X = mnist['data']\n",
    "y = mnist['target']\n",
    "\n",
    "#Need to OneHotEncode our output, because the output is a layer of 10 classes\n",
    "y = to_categorical(y)\n",
    "\n",
    "#Train test split\n",
    "X_train, X_test, y_train, y_test = train_test_split(X,y, test_size = 0.20, random_state = 0)"
   ]
  },
  {
   "cell_type": "code",
   "execution_count": 89,
   "metadata": {},
   "outputs": [],
   "source": [
    "#Scale your data? # Only need to scale the input, as the output is anyways [0,1]\n",
    "X = normalize(X)"
   ]
  },
  {
   "cell_type": "code",
   "execution_count": 90,
   "metadata": {},
   "outputs": [
    {
     "name": "stdout",
     "output_type": "stream",
     "text": [
      "X: (70000, 784)\n",
      "Y: (70000, 10)\n",
      "X_train: (56000, 784)\n",
      "Y_train: (56000, 10)\n"
     ]
    }
   ],
   "source": [
    "print(\"X: \" + str(X.shape))\n",
    "print(\"Y: \" + str(y.shape))\n",
    "print(\"X_train: \" + str(X_train.shape))\n",
    "print(\"Y_train: \" + str(y_train.shape))"
   ]
  },
  {
   "cell_type": "code",
   "execution_count": 91,
   "metadata": {},
   "outputs": [],
   "source": [
    "#Create Model\n",
    "model = Sequential()\n",
    "\n",
    "#no of cols in training data\n",
    "n_cols = X.shape[1]\n",
    "\n",
    "#Initializers\n",
    "initializer_glorot_u = glorot_uniform(seed = 123)\n",
    "\n",
    "#adding model layers\n",
    "model.add(Dense(100, input_shape=(n_cols,), activation='relu', use_bias=True, kernel_initializer=initializer_glorot_u,\n",
    "                kernel_regularizer=None, bias_regularizer=None, #kernel -> denotes weights\n",
    "              activity_regularizer=None, kernel_constraint=None, bias_constraint=None))\n",
    "model.add(Dense(100, activation='relu', use_bias=True, kernel_initializer=initializer_glorot_u,\n",
    "                kernel_regularizer=None, bias_regularizer=None, #kernel -> denotes weights\n",
    "              activity_regularizer=None, kernel_constraint=None, bias_constraint=None))\n",
    "model.add(Dense(100, activation='relu', use_bias=True, kernel_initializer=initializer_glorot_u,\n",
    "                kernel_regularizer=None, bias_regularizer=None, #kernel -> denotes weights\n",
    "              activity_regularizer=None, kernel_constraint=None, bias_constraint=None))\n",
    "model.add(Dense(10, activation='softmax', use_bias=True, kernel_initializer=initializer_glorot_u,\n",
    "                kernel_regularizer=None, bias_regularizer=None, #kernel -> denotes weights\n",
    "              activity_regularizer=None, kernel_constraint=None, bias_constraint=None))"
   ]
  },
  {
   "cell_type": "code",
   "execution_count": 92,
   "metadata": {},
   "outputs": [
    {
     "name": "stdout",
     "output_type": "stream",
     "text": [
      "_________________________________________________________________\n",
      "Layer (type)                 Output Shape              Param #   \n",
      "=================================================================\n",
      "dense_24 (Dense)             (None, 100)               78500     \n",
      "_________________________________________________________________\n",
      "dense_25 (Dense)             (None, 100)               10100     \n",
      "_________________________________________________________________\n",
      "dense_26 (Dense)             (None, 100)               10100     \n",
      "_________________________________________________________________\n",
      "dense_27 (Dense)             (None, 10)                1010      \n",
      "=================================================================\n",
      "Total params: 99,710\n",
      "Trainable params: 99,710\n",
      "Non-trainable params: 0\n",
      "_________________________________________________________________\n"
     ]
    }
   ],
   "source": [
    "model.summary()"
   ]
  },
  {
   "cell_type": "code",
   "execution_count": 93,
   "metadata": {},
   "outputs": [],
   "source": [
    "#Compile\n",
    "sgd = optimizers.SGD(lr=0.5) #lr - learning rate\n",
    "# decay=1e-6, momentum=0.9, nesterov=True\n",
    "model.compile(optimizer='adam',loss='categorical_crossentropy', metrics=['accuracy'])"
   ]
  },
  {
   "cell_type": "code",
   "execution_count": 94,
   "metadata": {},
   "outputs": [
    {
     "name": "stdout",
     "output_type": "stream",
     "text": [
      "Train on 56000 samples, validate on 14000 samples\n",
      "Epoch 1/100\n",
      "56000/56000 [==============================] - 1s 21us/step - loss: 6.3471 - acc: 0.5875 - val_loss: 4.3624 - val_acc: 0.7166\n",
      "Epoch 2/100\n",
      "56000/56000 [==============================] - 1s 15us/step - loss: 4.1635 - acc: 0.7299 - val_loss: 4.0912 - val_acc: 0.7358\n",
      "Epoch 3/100\n",
      "56000/56000 [==============================] - 1s 15us/step - loss: 3.9651 - acc: 0.7448 - val_loss: 4.0685 - val_acc: 0.7370\n",
      "Epoch 4/100\n",
      "56000/56000 [==============================] - 1s 15us/step - loss: 3.8581 - acc: 0.7522 - val_loss: 3.9106 - val_acc: 0.7502\n",
      "Epoch 5/100\n",
      "56000/56000 [==============================] - 1s 15us/step - loss: 2.9330 - acc: 0.8049 - val_loss: 2.4008 - val_acc: 0.8367\n",
      "Epoch 6/100\n",
      "56000/56000 [==============================] - 1s 15us/step - loss: 2.2687 - acc: 0.8467 - val_loss: 2.3544 - val_acc: 0.8397\n",
      "Epoch 7/100\n",
      "56000/56000 [==============================] - 1s 15us/step - loss: 0.8164 - acc: 0.9338 - val_loss: 0.5609 - val_acc: 0.9456\n",
      "Epoch 8/100\n",
      "56000/56000 [==============================] - 1s 15us/step - loss: 0.3695 - acc: 0.9626 - val_loss: 0.5379 - val_acc: 0.9459\n",
      "Epoch 9/100\n",
      "56000/56000 [==============================] - 1s 15us/step - loss: 0.2998 - acc: 0.9666 - val_loss: 0.4169 - val_acc: 0.9521\n",
      "Epoch 10/100\n",
      "56000/56000 [==============================] - 1s 15us/step - loss: 0.2344 - acc: 0.9709 - val_loss: 0.3401 - val_acc: 0.9591\n",
      "Epoch 11/100\n",
      "56000/56000 [==============================] - 1s 15us/step - loss: 0.1844 - acc: 0.9750 - val_loss: 0.3277 - val_acc: 0.9576\n",
      "Epoch 12/100\n",
      "56000/56000 [==============================] - 1s 16us/step - loss: 0.1537 - acc: 0.9771 - val_loss: 0.3030 - val_acc: 0.9592\n",
      "Epoch 13/100\n",
      "56000/56000 [==============================] - 1s 15us/step - loss: 0.1378 - acc: 0.9776 - val_loss: 0.2804 - val_acc: 0.9614\n",
      "Epoch 14/100\n",
      "56000/56000 [==============================] - 1s 18us/step - loss: 0.1157 - acc: 0.9813 - val_loss: 0.2681 - val_acc: 0.9621\n",
      "Epoch 15/100\n",
      "56000/56000 [==============================] - 1s 16us/step - loss: 0.0898 - acc: 0.9848 - val_loss: 0.2380 - val_acc: 0.9646\n",
      "Epoch 16/100\n",
      "56000/56000 [==============================] - 1s 15us/step - loss: 0.0836 - acc: 0.9859 - val_loss: 0.2484 - val_acc: 0.9652\n"
     ]
    },
    {
     "data": {
      "text/plain": [
       "<keras.callbacks.History at 0x2da0555ccc0>"
      ]
     },
     "execution_count": 94,
     "metadata": {},
     "output_type": "execute_result"
    }
   ],
   "source": [
    "#Fit\n",
    "callback_ES = EarlyStopping(monitor='val_loss', min_delta=0)\n",
    "model.fit(X_train, y_train, batch_size=256, epochs=100, \n",
    "                   validation_data=(X_test, y_test), callbacks = [callback_ES])"
   ]
  },
  {
   "cell_type": "code",
   "execution_count": 95,
   "metadata": {},
   "outputs": [
    {
     "name": "stdout",
     "output_type": "stream",
     "text": [
      "14000/14000 [==============================] - 0s 18us/step\n"
     ]
    },
    {
     "data": {
      "text/plain": [
       "[0.24835394078371714, 0.9652142857142857]"
      ]
     },
     "execution_count": 95,
     "metadata": {},
     "output_type": "execute_result"
    }
   ],
   "source": [
    "#Evaluate\n",
    "model.evaluate(X_test, y_test)"
   ]
  },
  {
   "cell_type": "code",
   "execution_count": 96,
   "metadata": {},
   "outputs": [
    {
     "data": {
      "text/plain": [
       "(14000, 10)"
      ]
     },
     "execution_count": 96,
     "metadata": {},
     "output_type": "execute_result"
    }
   ],
   "source": [
    "y_test.shape"
   ]
  },
  {
   "cell_type": "code",
   "execution_count": null,
   "metadata": {},
   "outputs": [],
   "source": []
  },
  {
   "cell_type": "code",
   "execution_count": null,
   "metadata": {},
   "outputs": [],
   "source": []
  },
  {
   "cell_type": "code",
   "execution_count": null,
   "metadata": {},
   "outputs": [],
   "source": []
  },
  {
   "cell_type": "code",
   "execution_count": null,
   "metadata": {},
   "outputs": [],
   "source": []
  },
  {
   "cell_type": "code",
   "execution_count": null,
   "metadata": {},
   "outputs": [],
   "source": []
  },
  {
   "cell_type": "code",
   "execution_count": null,
   "metadata": {},
   "outputs": [],
   "source": []
  },
  {
   "cell_type": "code",
   "execution_count": null,
   "metadata": {},
   "outputs": [],
   "source": []
  },
  {
   "cell_type": "code",
   "execution_count": null,
   "metadata": {},
   "outputs": [],
   "source": []
  }
 ],
 "metadata": {
  "kernelspec": {
   "display_name": "Python 3",
   "language": "python",
   "name": "python3"
  },
  "language_info": {
   "codemirror_mode": {
    "name": "ipython",
    "version": 3
   },
   "file_extension": ".py",
   "mimetype": "text/x-python",
   "name": "python",
   "nbconvert_exporter": "python",
   "pygments_lexer": "ipython3",
   "version": "3.6.5"
  }
 },
 "nbformat": 4,
 "nbformat_minor": 2
}
